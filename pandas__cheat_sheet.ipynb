{
  "nbformat": 4,
  "nbformat_minor": 0,
  "metadata": {
    "colab": {
      "name": "pandas_ cheat_sheet.ipynb",
      "provenance": [],
      "authorship_tag": "ABX9TyM2Fih8jQlNNfvRKC3Fl9AU",
      "include_colab_link": true
    },
    "kernelspec": {
      "name": "python3",
      "display_name": "Python 3"
    },
    "language_info": {
      "name": "python"
    }
  },
  "cells": [
    {
      "cell_type": "markdown",
      "metadata": {
        "id": "view-in-github",
        "colab_type": "text"
      },
      "source": [
        "<a href=\"https://colab.research.google.com/github/PawelAntoniak/Coding/blob/master/pandas__cheat_sheet.ipynb\" target=\"_parent\"><img src=\"https://colab.research.google.com/assets/colab-badge.svg\" alt=\"Open In Colab\"/></a>"
      ]
    },
    {
      "cell_type": "markdown",
      "metadata": {
        "id": "BChjm5Dm9lwF"
      },
      "source": [
        "# https://www.datacamp.com/community/blog/python-pandas-cheat-sheet\n",
        "# https://www.datacamp.com/community/tutorials/pandas\n",
        "# https://www.datacamp.com/community/tutorials/pandas-tutorial-dataframe-python\n",
        "# https://www.amazeddeveloper.pl/blog/pandas-basics-1\n",
        "https://www.amazeddeveloper.pl/blog/pandas-basics-2"
      ]
    },
    {
      "cell_type": "markdown",
      "metadata": {
        "id": "snI_S-mI-Mso"
      },
      "source": [
        "# DataFrame.head() zwraca pierwsze 5 wierszy, podajac liczbe jako argument zmieniamy ilosc wierszy\n",
        "# DataFrame.shape zwraca ilość wierszy i kolumn w tupli np (4,5) czyli 4 wiersze i 5 kolumn\n",
        "# df.describe() - statysyki dla kolumn numerycznych\n",
        "# pd.dtypes - sprawdza typ danych w kolumnach\n",
        "# DataFrame.iat(numer wiersza, numer kolumny) wyszukuje konkretna komorke\n",
        "# jeśli chcemy zaznaczyć kolumnę piszemy poprostu df['nazwa kolumny']\n",
        "# zaznaczanie 2 lub wiekszej ilosci kolumn df[[\"first_name\", \"gender\"]]\n",
        "# stworzenie nowej kolumny np: df['nowa_col'] = df['stara_col'] / 100\n",
        "# stworzenie nowej kolumny np: df['nowa_col'] = df['col_1'] * df['col_2']\n",
        "# zaznaczanie wiersza (po wartosci pierwszej komórki w wierszu) df.loc['wartosc']\n",
        "# df['nazwa_kolumny'].min() , .max() , .mean()\n",
        "# pd.set_option('display.max_columns', None) wyswietla wszystkie kolumny\n",
        "# df.sort_values('nazwa_kolumny', opcjonalnie ascending=False) - sortuje dane w df po kolumnie\n",
        "# df.to_csv('myDataFrame.csv') do csv\n",
        "# data = pd.ExcelFile(file) , print(data.sheet_names), data.parse('nazwa sheetu', usecols=[0,1,2])\n",
        "# usecols=[0,1,2] ten param pozwala wczytać tylko niektóre kolumny\n",
        "# skiprows=[1,2,7] ten param pozwala pominąć wybrane wiersze przy imporcie z excela\n",
        "# names=['nowa nazwa kolumny'] ten param pozwala zmienić nazwę kolumny/kolumn przy imporcie\n",
        "# zmiana nazwy kolumny po imporcie: \n",
        "# df.rename(columns=({'kolumna którą chcemy zmienić':'nowa nazwa kolumny'}),inplace=True,)\n",
        "# df = pd.read_csv(file, parse_dates=['nazwa_kolumny_do_sparsowania'])\n",
        "# split kolumny na 2 oddzielne: df[['nowakolumna1','nowakolumna2']] = df.nazwacolktorachcemyrozdzielic.str.split(\" \", expand=True)\n",
        "# zmiana wartości w kolumnie (na zasadzie if coś to cos) df[\"column1\"].replace({\"wartosca\": \"aaa\", \"wartoscb\": \"bbbb\"}, inplace=True)\n",
        "# łączenie 2 kolumn: df['nowakolumna'] = df['pierwszałączona'].str.cat(df['drugałączona'],sep=\" \")\n",
        "# konwersja stringa do datetime df['date'] = df['date'].astype('datetime64[D]')\n",
        "# astype służy do zmiany typu danych w kolumnie\n",
        "# sposób nr 2: df['kolumna'] = pd.to_datetime(df['kolumna'])\n",
        "# usunięcie kolumny z df: df.drop('nazwa_kolumny', inplace=True, axis=1)\n",
        "# wyświetlanie tylko niektórych kolumn: \n",
        "# specific_data=data[[\"nazwacol1\",\"nazwacol2\"]]\n",
        "# print(specific_data.head(10))\n",
        "# możemy ustawić co ma być indexem już przy imporcie dodając parametr index=['a', 'b', 'c']\n",
        "# możey też ustawić index po imporcie df.index = list('abcd') Oczywiście również w tym przypadku długość listy indeksów musi być zgodna z długością kolumny tablicy.\n"
      ]
    },
    {
      "cell_type": "code",
      "metadata": {
        "id": "WzB4DAfk-PYI"
      },
      "source": [
        "# Wygodnym sposobem tworzenia tablic DataFrame jest też przekazanie listy słowników\":\n",
        "import pandas as pd\n",
        "l = [{'a': 1, 'b': 2, 'c': 3}, {'a': 11, 'b': 12}]\n",
        "pd.DataFrame(l)"
      ],
      "execution_count": null,
      "outputs": []
    },
    {
      "cell_type": "code",
      "metadata": {
        "id": "BCpmPjQE_nIT"
      },
      "source": [
        "# Gdy jednak chcemy, aby kolumna znalazła się w innym miejscu, możemy skorzystać z metody pd.DataFrame.insert(), która przyjmuje trzy podstawowe argumenty:\n",
        "\n",
        "# miejsce, w którym kolumna ma zostać wstawiona (rozumiane jako indeks w tabeli df.columns);\n",
        "# nazwę kolumny;\n",
        "# zawartość kolumny.\n",
        "\n",
        "df.insert(0, 'zero', [1, 2, 3, 4])"
      ],
      "execution_count": null,
      "outputs": []
    },
    {
      "cell_type": "code",
      "metadata": {
        "id": "RTQZp_cWDaZs"
      },
      "source": [
        "# gdy wytniemy kolumnę z df w ten sposób:\n",
        "df['nazwa_kolumny'] # to dostaniemy obiekt typu series\n",
        "\n",
        "# natomiast gdy wytniemy w ten sposob:\n",
        "df[['nazwa_kolumny']] # to dostaniemy obiekt typu DataFrame"
      ],
      "execution_count": null,
      "outputs": []
    },
    {
      "cell_type": "code",
      "metadata": {
        "id": "TRCVqCE6EvYc"
      },
      "source": [
        "# jak wyciąć konkretny wiersz lub zakres wierszy?\n",
        "# po indeksie gdy gdy index jest nazwą:\n",
        "df.loc['nazwa_indeksu']\n",
        "# po indeksie gdy index jest numeryczny:\n",
        "df.iloc[3]\n",
        "\n",
        "# jak wyciąć konkretną komórkę? \n",
        "df.loc['nazwa_indeksu', 'nazwa_kolumny_z_której_wycinamy_komorke']\n",
        "#lub\n",
        "df.iloc[3, 'nazwa_kolumny_z_ktorej_wycinamy_komorke'] "
      ],
      "execution_count": null,
      "outputs": []
    },
    {
      "cell_type": "code",
      "metadata": {
        "id": "zddLeTSFHytx"
      },
      "source": [
        "# jak zamienić duże litery w nazwach kolumn na małe litery?\n",
        "df.columns = [col.lower() for col in df.columns]"
      ],
      "execution_count": null,
      "outputs": []
    },
    {
      "cell_type": "code",
      "metadata": {
        "id": "x0UXZkEvIUp3"
      },
      "source": [
        "df.describe() #można transponować:\n",
        "df.describe().T"
      ],
      "execution_count": null,
      "outputs": []
    },
    {
      "cell_type": "code",
      "metadata": {
        "id": "3J8Z4RuiIhaA"
      },
      "source": [
        "# bibliotek do pobierania danych ze strony do df:\n",
        "import pandas_datareader.data as web"
      ],
      "execution_count": null,
      "outputs": []
    },
    {
      "cell_type": "code",
      "metadata": {
        "id": "hDEg3hjEDyhR"
      },
      "source": [
        "# sprawdzam ile jest wartości null w kolumnach:\n",
        "print(df.isnull().sum())"
      ],
      "execution_count": null,
      "outputs": []
    },
    {
      "cell_type": "code",
      "metadata": {
        "id": "2zT7XlXFB6IK"
      },
      "source": [
        "# jak usunąć wiersze które mają wartości null:\n",
        "df = df.dropna()\n",
        "df = df.reset_index(drop=True)"
      ],
      "execution_count": null,
      "outputs": []
    },
    {
      "cell_type": "code",
      "metadata": {
        "id": "LR920XSqFQDW"
      },
      "source": [
        "# printowanie wiersza na podstawie konkretnej wartości:\n",
        "print(df.query('id==1'))\n",
        "\n",
        "print(df.query('nazwa_kolumny > wartości w kolumnie'))\n",
        "\n",
        "# lub:\n",
        "\n",
        "print(df[df[\"surname\"] == szukana wartosc])"
      ],
      "execution_count": null,
      "outputs": []
    }
  ]
}